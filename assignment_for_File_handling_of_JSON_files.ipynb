{
  "nbformat": 4,
  "nbformat_minor": 0,
  "metadata": {
    "colab": {
      "provenance": [],
      "authorship_tag": "ABX9TyO6YTmqW7VIiGH7YICkEFOb",
      "include_colab_link": true
    },
    "kernelspec": {
      "name": "python3",
      "display_name": "Python 3"
    },
    "language_info": {
      "name": "python"
    }
  },
  "cells": [
    {
      "cell_type": "markdown",
      "metadata": {
        "id": "view-in-github",
        "colab_type": "text"
      },
      "source": [
        "<a href=\"https://colab.research.google.com/github/rohit7798github/assignment-for-File-handling-of-JSON-files/blob/main/assignment_for_File_handling_of_JSON_files.ipynb\" target=\"_parent\"><img src=\"https://colab.research.google.com/assets/colab-badge.svg\" alt=\"Open In Colab\"/></a>"
      ]
    },
    {
      "cell_type": "code",
      "execution_count": 27,
      "metadata": {
        "id": "BjAwp9ZZRhdg"
      },
      "outputs": [],
      "source": [
        "import json\n",
        "\n",
        "data = {\n",
        "    'employees' : [\n",
        "        {\n",
        "            'name' : 'rohit more',\n",
        "            'dob' : '20/05/1997',\n",
        "            'Height' : '5.5',\n",
        "            'city' : 'nashik',\n",
        "            'State' : 'maharastra'\n",
        "        },\n",
        "        {\n",
        "            'name' : 'rohit bodke',\n",
        "            'dob' : '15/08/1998',\n",
        "            'Height' : '5.8',\n",
        "            'city' : 'sinner',\n",
        "            'place' : 'maharastra'\n",
        "        },\n",
        "        {\n",
        "            'name' : 'Don Joe',\n",
        "            'dob' : '2/6/1998',\n",
        "            'height' : '6.0',\n",
        "            'city' : 'UAE',\n",
        "            'state' : 'maharastra'\n",
        "        },\n",
        "        {\n",
        "            'name' : 'sachin telore',\n",
        "            'dob' : '6/09/1992',\n",
        "            'height' : '5.8',\n",
        "            'city' : '09/01/1990',\n",
        "            'state' : 'maharastra'\n",
        "        },\n",
        "        {\n",
        "            'name': 'chetan khirnar',\n",
        "            'dob' : '12/08/1998',\n",
        "            'height'  : '6.3',\n",
        "            'city' : 'nashik',\n",
        "            'state' : 'maharastra'\n",
        "            \n",
        "        }\n",
        "    ]\n",
        "}\n",
        "\n",
        "j = json.dumps(data)\n",
        "with open('my Reacoard.json','w') as f:\n",
        "  f.write(j)\n",
        "  f.close()\n"
      ]
    },
    {
      "cell_type": "code",
      "source": [
        "import json\n",
        "#1 Create a JSON file (employee.json) containing employee information of minimum 5 employees\n",
        "\n",
        "data =json.load(open('my Reacoard.json'))\n",
        "\n",
        "print(data)"
      ],
      "metadata": {
        "colab": {
          "base_uri": "https://localhost:8080/"
        },
        "id": "EtTH0FtCF1Uc",
        "outputId": "da6a114d-88f6-46d5-8b1b-ee8c8ffdf4e8"
      },
      "execution_count": 28,
      "outputs": [
        {
          "output_type": "stream",
          "name": "stdout",
          "text": [
            "{'employees': [{'name': 'rohit more', 'dob': '20/05/1997', 'Height': '5.5', 'city': 'nashik', 'State': 'maharastra'}, {'name': 'rohit bodke', 'dob': '15/08/1998', 'Height': '5.8', 'city': 'sinner', 'place': 'maharastra'}, {'name': 'Don Joe', 'dob': '2/6/1998', 'height': '6.0', 'city': 'UAE', 'state': 'maharastra'}, {'name': 'sachin telore', 'dob': '6/09/1992', 'height': '5.8', 'city': '09/01/1990', 'state': 'maharastra'}, {'name': 'chetan khirnar', 'dob': '12/08/1998', 'height': '6.3', 'city': 'nashik', 'state': 'maharastra'}]}\n"
          ]
        }
      ]
    },
    {
      "cell_type": "code",
      "source": [
        "import json\n",
        "#Create a dictionary of any 7 Indian states and their capitals. Write this into a JSON file.\n",
        "data={\n",
        "    'description':'Create a dictionary of any 7 Indian states and their capitals. Write this into a JSON file',\n",
        "    'country' : 'india',\n",
        "    'state': [\n",
        "        {\n",
        "            'state': 'maharastra',\n",
        "            'capital':'mumbai'\n",
        "        },\n",
        "        {\n",
        "            'state': 'Karnataka',\n",
        "            'capital': 'Bengaluru'\n",
        "        },\n",
        "        {\n",
        "            'state': 'Rajasthan',\n",
        "            'capital': 'Jaipur'\n",
        "        },\n",
        "        {\n",
        "             'state': 'Uttarakhand',\n",
        "            'capital': 'Dehradun (Winter)'\n",
        "        },\n",
        "        {\n",
        "            'state': 'Goa',\n",
        "            'capital': 'Panaji'\n",
        "        },\n",
        "        {\n",
        "            'state': 'Arunachal Pradesh',\n",
        "            'capital': 'Itanagar'\n",
        "        },\n",
        "        {\n",
        "            'state': 'Gujarat',\n",
        "            'capital': 'Gandhinagar'\n",
        "        }\n",
        "        \n",
        "        \n",
        "        \n",
        "    ]\n",
        "\n",
        " \n",
        "}\n",
        "json_data = json.dumps(data)\n",
        "print(json_data)"
      ],
      "metadata": {
        "colab": {
          "base_uri": "https://localhost:8080/"
        },
        "id": "b3WzkdXMF1RM",
        "outputId": "9701d18b-4872-4fb8-ee92-7846576a9f91"
      },
      "execution_count": 29,
      "outputs": [
        {
          "output_type": "stream",
          "name": "stdout",
          "text": [
            "{\"description\": \"Create a dictionary of any 7 Indian states and their capitals. Write this into a JSON file\", \"country\": \"india\", \"state\": [{\"state\": \"maharastra\", \"capital\": \"mumbai\"}, {\"state\": \"Karnataka\", \"capital\": \"Bengaluru\"}, {\"state\": \"Rajasthan\", \"capital\": \"Jaipur\"}, {\"state\": \"Uttarakhand\", \"capital\": \"Dehradun (Winter)\"}, {\"state\": \"Goa\", \"capital\": \"Panaji\"}, {\"state\": \"Arunachal Pradesh\", \"capital\": \"Itanagar\"}, {\"state\": \"Gujarat\", \"capital\": \"Gandhinagar\"}]}\n"
          ]
        }
      ]
    },
    {
      "cell_type": "code",
      "source": [
        "# Parent class\n",
        "class Dog:\n",
        "    \n",
        "    species = 'mammal'\n",
        "\n",
        "  \n",
        "    def __init__(self, name, age):\n",
        "        self.name = name\n",
        "        self.age = age\n",
        "\n",
        "    \n",
        "    def description(self):\n",
        "        return \"my dog  name is {} and he is {} years old\".format(self.name, self.age)\n",
        "\n",
        "   \n",
        "    def get_info(self, colour):\n",
        "        return \"hay {} colour is {}\".format(self.name, colour)\n",
        "\n",
        "# Child class (inherits from Dog class)\n",
        "class RussellTerrier(Dog):\n",
        "    def weight(self, weight):\n",
        "        return \"{} weight is {}\".format(self.name, weight)\n",
        "\n",
        "    def span(self,life_span):\n",
        "      return '{} lives up to {} According to Guinness World Records'.format(self.name,life_span)    \n",
        "\n",
        "\n",
        "class Bulldog(Dog):\n",
        "    def run(self, speed):\n",
        "        return \"{} is runs {} under mph\".format(self.name, speed)\n",
        "\n",
        "    def price(self,price_india):\n",
        "      return'in {} india Puppies are available from {}'.format(self.name,price_india)    \n",
        "\n",
        "miles = Dog('brono',4)\n",
        "print(miles.description())\n",
        "print(miles.get_info('white'))\n",
        "\n",
        "RussellTerrier = RussellTerrier(\"RussellTerrier\",25)\n",
        "print(RussellTerrier.weight(34))\n",
        "print(RussellTerrier.span(16))\n",
        "\n",
        "Bulldog =Bulldog('Bulldog',15)\n",
        "print(Bulldog.run(15))\n",
        "print(Bulldog.price('10000 to 60000'))"
      ],
      "metadata": {
        "colab": {
          "base_uri": "https://localhost:8080/"
        },
        "id": "aljYE7PGP5t6",
        "outputId": "cabaafb8-f755-4c46-fbf0-de1bd28ea429"
      },
      "execution_count": 30,
      "outputs": [
        {
          "output_type": "stream",
          "name": "stdout",
          "text": [
            "my dog  name is brono and he is 4 years old\n",
            "hay brono colour is white\n",
            "RussellTerrier weight is 34\n",
            "RussellTerrier lives up to 16 According to Guinness World Records\n",
            "Bulldog is runs 15 under mph\n",
            "in Bulldog india Puppies are available from 10000 to 60000\n"
          ]
        }
      ]
    }
  ]
}